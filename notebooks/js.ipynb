{
 "metadata": {
  "kernelspec": {
   "display_name": ".NET (C#)",
   "language": "C#",
   "name": ".net-csharp"
  },
  "language_info": {
   "name": "C#"
  }
 },
 "cells": [
  {
   "cell_type": "code",
   "execution_count": null,
   "source": [
    "#!lsmagic"
   ],
   "outputs": [],
   "metadata": {
    "dotnet_interactive": {
     "language": "csharp"
    }
   }
  },
  {
   "cell_type": "code",
   "execution_count": null,
   "source": [
    "#!js\r\n",
    "let inventory = [\r\n",
    "  {name: 'Bananas', quantity: 5},\r\n",
    "  {name: 'Apples', quantity: 10},\r\n",
    "  {name: 'Grapes', quantity: 2}\r\n",
    "];\r\n",
    "\r\n",
    "function getInventoryItem(arr, value) {\r\n",
    "  return arr.find(obj => obj.name === value);  // <-- here\r\n",
    "}\r\n",
    "\r\n",
    "let result = (getInventoryItem(inventory, 'Apples') ?? {quantity:NaN}).quantity;\r\n",
    "console.log( result );\r\n",
    "console.log( isFinite(result) );\r\n",
    "\r\n"
   ],
   "outputs": [],
   "metadata": {
    "dotnet_interactive": {
     "language": "csharp"
    }
   }
  },
  {
   "cell_type": "code",
   "execution_count": null,
   "source": [
    "#!html\r\n",
    "<style>\r\n",
    ".wrapper {\r\n",
    "  display: grid;\r\n",
    "  grid-template-columns: 1fr 1fr;\r\n",
    "  grid-template-areas:\r\n",
    "    \"a b\"\r\n",
    "    \"a b\";\r\n",
    "}\r\n",
    ".item1 {\r\n",
    "  grid-area: a;\r\n",
    "}\r\n",
    ".item2 {\r\n",
    "  grid-area: b;\r\n",
    "}\r\n",
    "</style>\r\n",
    "<div class=\"wrapper\">\r\n",
    "   <div class=\"item1\">Item</div>\r\n",
    "   <div class=\"item2\">Item</div>\r\n",
    "</div>"
   ],
   "outputs": [
    {
     "output_type": "display_data",
     "data": {
      "text/html": [
       "<style>\r\n",
       ".wrapper {\r\n",
       "  display: grid;\r\n",
       "  grid-template-columns: 1fr 1fr;\r\n",
       "  grid-template-areas:\r\n",
       "    \"a b\"\r\n",
       "    \"a b\";\r\n",
       "}\r\n",
       ".item1 {\r\n",
       "  grid-area: a;\r\n",
       "}\r\n",
       ".item2 {\r\n",
       "  grid-area: b;\r\n",
       "}\r\n",
       "</style>\r\n",
       "<div class=\"wrapper\">\r\n",
       "   <div class=\"item1\">Item</div>\r\n",
       "   <div class=\"item2\">Item</div>\r\n",
       "</div>"
      ]
     },
     "metadata": {}
    }
   ],
   "metadata": {
    "dotnet_interactive": {
     "language": "html"
    }
   }
  }
 ],
 "nbformat": 4,
 "nbformat_minor": 2
}