{
 "metadata": {
  "kernelspec": {
   "display_name": ".NET (C#)",
   "language": "C#",
   "name": ".net-csharp"
  },
  "language_info": {
   "name": "C#"
  }
 },
 "cells": [
  {
   "cell_type": "markdown",
   "source": [
    "# Hello world\r\n",
    "\r\n",
    "First we need to make sure our voice is heard. Use `display` function to output *things* to the notebook output"
   ],
   "metadata": {}
  },
  {
   "cell_type": "code",
   "execution_count": null,
   "source": [
    "display(\"Hello, world\");"
   ],
   "outputs": [],
   "metadata": {
    "dotnet_interactive": {
     "language": "csharp"
    }
   }
  },
  {
   "cell_type": "markdown",
   "source": [
    "# New client\r\n",
    "\r\n",
    "No matter how hard you try, you can forget about XrmTooling from .NET Framework. \r\n",
    "\r\n",
    "**tl&amp;dr**: it relies on ADAL which is not available here.\r\n",
    "\r\n",
    "Let's start with bringing the nuget package we need and adding namespaces.\r\n"
   ],
   "metadata": {}
  },
  {
   "cell_type": "code",
   "execution_count": null,
   "source": [
    "#r \"nuget: Microsoft.PowerPlatform.Dataverse.Client\"\r\n",
    "\r\n",
    "using Microsoft.PowerPlatform.Dataverse.Client;\r\n",
    "using Microsoft.Crm.Sdk.Messages;"
   ],
   "outputs": [],
   "metadata": {
    "dotnet_interactive": {
     "language": "csharp"
    }
   }
  },
  {
   "cell_type": "markdown",
   "source": [
    "# Connect \r\n",
    "\r\n",
    "Let's connect the client! Simply use `ServiceClient` instead of `CrmServiceClient` and you are good to go."
   ],
   "metadata": {}
  },
  {
   "cell_type": "code",
   "execution_count": null,
   "source": [
    "var conn = new ServiceClient(new Uri(\"https://enabler.crm6.dynamics.com\"),  \"e938ec06-1233-4fa4-9609-62e40712be13\",  \"7-h3X.0_ecN2DPgGu9VD.jbCr.k54qXM22\",  true);\r\n",
    "\r\n",
    "if(conn.IsReady) {\r\n",
    "  display($\"You are connected to the organization {conn.OrganizationDetail.FriendlyName}\");\r\n",
    "}\r\n",
    "else {\r\n",
    "  display(\"No connection\");\r\n",
    "}"
   ],
   "outputs": [],
   "metadata": {
    "dotnet_interactive": {
     "language": "csharp"
    }
   }
  },
  {
   "cell_type": "code",
   "execution_count": null,
   "source": [
    "if(conn.IsReady) {\r\n",
    "  var whoamiResponse = conn.Execute(new WhoAmIRequest());\r\n",
    "  display(whoamiResponse);\r\n",
    "}"
   ],
   "outputs": [],
   "metadata": {
    "dotnet_interactive": {
     "language": "csharp"
    }
   }
  },
  {
   "cell_type": "markdown",
   "source": [
    "# Data retrieval\r\n",
    "\r\n",
    "Let's get some contacts"
   ],
   "metadata": {}
  },
  {
   "cell_type": "code",
   "execution_count": null,
   "source": [
    "using Microsoft.Xrm.Sdk.Query;\r\n",
    "\r\n",
    "var query = new QueryExpression(\"contact\");\r\n",
    "query.ColumnSet = new ColumnSet(\"fullname\");\r\n",
    "query.TopCount = 5;\r\n",
    "var contacts = conn.RetrieveMultiple(query);\r\n",
    "foreach(var c in contacts.Entities) {\r\n",
    "  display(c[\"fullname\"]);\r\n",
    "}"
   ],
   "outputs": [],
   "metadata": {
    "dotnet_interactive": {
     "language": "csharp"
    }
   }
  },
  {
   "cell_type": "markdown",
   "source": [
    "#LINQ\r\n",
    "\r\n",
    "Now let's try the same with LINQ"
   ],
   "metadata": {}
  },
  {
   "cell_type": "code",
   "execution_count": null,
   "source": [
    "using Microsoft.Xrm.Sdk.Client;\r\n",
    "var context = new OrganizationServiceContext(conn);\r\n",
    "var contacts = context.CreateQuery(\"contact\").Select(c => c[\"fullname\"]).Take(5);\r\n",
    "display(contacts);"
   ],
   "outputs": [],
   "metadata": {
    "dotnet_interactive": {
     "language": "csharp"
    }
   }
  },
  {
   "cell_type": "code",
   "execution_count": null,
   "source": [
    "try {\r\n",
    "  var conn = new ServiceClient(new Uri(\"https://foobarbaz.crm6.dynamics.com\"),  \"\",  \"\",  true);\r\n",
    "}\r\n",
    "catch(Exception ex) {\r\n",
    "  display(ex.Message);\r\n",
    "  display(ex.InnerException?.Message);\r\n",
    "}"
   ],
   "outputs": [],
   "metadata": {
    "dotnet_interactive": {
     "language": "csharp"
    }
   }
  }
 ],
 "nbformat": 4,
 "nbformat_minor": 2
}